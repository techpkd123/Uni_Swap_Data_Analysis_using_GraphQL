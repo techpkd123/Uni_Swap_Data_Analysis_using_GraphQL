{
 "cells": [
  {
   "cell_type": "markdown",
   "metadata": {
    "collapsed": false,
    "id": "47mrKyUs4Y7G"
   },
   "source": [
    "**GET THE ADDRESS FROM THE UNI-SWAP API**"
   ]
  },
  {
   "cell_type": "markdown",
   "metadata": {
    "collapsed": false,
    "id": "Xt8sruVQhP5j"
   },
   "source": [
    "To start with the query process, first we have to take the api of the subgraph.\n",
    "1. we have to visit The Graph Explorer to view all of the hosted subgraphs that exist for the Ethereum blockchain.\n",
    "2. Select a subgraph page and note down the http query address for uniswap i.e.\n",
    "https://api.thegraph.com/subgraphs/name/uniswap/uniswap-v2\n",
    "3. The http query address is needed in our Python code and is the endpoint that contains the blockchain data"
   ]
  },
  {
   "cell_type": "markdown",
   "metadata": {
    "collapsed": false,
    "id": "UpBoDgkW4Sd4"
   },
   "source": [
    "**IMPORTING ALL THE NECESSARY LIBRARIES**"
   ]
  },
  {
   "cell_type": "code",
   "execution_count": 61,
   "metadata": {
    "collapsed": false,
    "id": "PK0qHQkW4lH1"
   },
   "outputs": [
   ],
   "source": [
    "import requests      #to get the json data from the api\n",
    "import numpy as np\n",
    "import pandas as pd  #to convert the json into dataframe\n",
    "import seaborn as sns #to plot some data\n",
    "import matplotlib.pyplot as plt"
   ]
  },
  {
   "cell_type": "markdown",
   "metadata": {
    "collapsed": false,
    "id": "Eu27IpeN440w"
   },
   "source": [
    "**FUNCTION DEFINITION TO MAKE API CALLS WHICH BASICALLY RETURNS A JSON FILE TO US**"
   ]
  },
  {
   "cell_type": "code",
   "execution_count": 62,
   "metadata": {
    "collapsed": false,
    "id": "KYA6TSnw58il"
   },
   "outputs": [
   ],
   "source": [
    "def execute(query,variables = None):\n",
    "\n",
    "    # endpoint where we are making the request\n",
    "    request = requests.post('https://api.thegraph.com/subgraphs/name/uniswap/uniswap-v2',json={'query': query,'variables': variables})\n",
    "    if request.status_code == 200:\n",
    "        return request.json()\n",
    "    else:\n",
    "        raise Exception('Query failed. return code is {}.'.format(request.status_code))"
   ]
  },
  {
   "cell_type": "markdown",
   "metadata": {
    "collapsed": false,
    "id": "Cm0_gNYJ_8ab"
   },
   "source": [
    "**QUERY TO FIND TOKEN ID's OF SYMBOL UNI**"
   ]
  },
  {
   "cell_type": "code",
   "execution_count": 63,
   "metadata": {
    "colab": {
     "base_uri": "https://localhost:8080/"
    },
    "collapsed": false,
    "id": "IwKVhl5JBBow",
    "outputId": "0ea3f26e-1189-4d4d-8932-1321d5f75e21"
   },
   "outputs": [
    {
     "name": "stdout",
     "output_type": "stream",
     "text": [
      "['0x0478d05f4960fa5c7880a6346a5dd10d894e87ef', '0x1f9840a85d5af5bf1d1762f925bdaddc4201f984', '0x24382731129c7b77cf1fb744e509e32572fa4a45', '0x2730d6fdc86c95a74253beffaa8306b40fedecbb', '0x3158e7fdfeacd9cb6744fb922f68d83321c0da64', '0x3e370a6c8255b065bd42bc0ac9255b269cfcc172', '0x41870c93bc97221a741f955586bef5cfcfa186fa', '0x5644b9eed6f578c820e6fa500b3c9f21d22347d8', '0x8a3afc69b947b9368af68104fa3ac512b58b930e', '0x8b16acf50051bb6efd68bdf35099b798db0ff4b7', '0x907455194480175560b05a405f47d298cb19b21d', '0x9629aa8ce8e61004952ab619d683576f4ec5478b', '0xcae516aa57d04ebf9b92813050282333f7587d2f', '0xebfee807881a0258311aeae07e2e3ae49aa41f29', '0xf17785cce27f0d33b82739ee20abd57298caa88a']\n"
     ]
    }
   ],
   "source": [
    "query = \"\"\"\n",
    "{\n",
    "  tokens(where:{symbol:\"UNI\"}){\n",
    "    id\n",
    "  }\n",
    "}\n",
    "\"\"\"\n",
    "result = execute(query) #function calling\n",
    "UNI_token = [] #list to store the token id of all token's with symbol UNI\n",
    "\n",
    "for i in result[\"data\"][\"tokens\"]:  #formatting the query result\n",
    "  UNI_token.append(i[\"id\"])\n",
    "\n",
    "print(UNI_token)"
   ]
  },
  {
   "cell_type": "markdown",
   "metadata": {
    "collapsed": false,
    "id": "1zD6_4M2Dl80"
   },
   "source": [
    "**QUERY TO FIND TOKEN ID'S OF SYMBOL WETH**"
   ]
  },
  {
   "cell_type": "code",
   "execution_count": 64,
   "metadata": {
    "colab": {
     "base_uri": "https://localhost:8080/"
    },
    "collapsed": false,
    "id": "myhnR-0rDlDN",
    "outputId": "7200bf16-31de-4cdd-d1d4-3bcf79680a71"
   },
   "outputs": [
    {
     "name": "stdout",
     "output_type": "stream",
     "text": [
      "['0x477b466750c31c890db3208816d60c8585be7f0e', '0xc02aaa39b223fe8d0a0e5c4f27ead9083c756cc2', '0xd73d6d4c463df976399acd80ea338384e247c64b']\n"
     ]
    }
   ],
   "source": [
    "query = \"\"\"\n",
    "{\n",
    "  tokens(where:{symbol:\"WETH\"}){\n",
    "    id\n",
    "  }\n",
    "}\n",
    "\"\"\"\n",
    "result = execute(query) #function calling\n",
    "WETH_token = [] #list to store the token id of all token's with symbol UNI\n",
    "\n",
    "for i in result[\"data\"][\"tokens\"]:  #formatting the query result\n",
    "  WETH_token.append(i[\"id\"])\n",
    "\n",
    "print(WETH_token)"
   ]
  },
  {
   "cell_type": "markdown",
   "metadata": {
    "collapsed": false,
    "id": "0fxi5591D4vT"
   },
   "source": [
    "**QUERY TO FIND PAIR ID's OF ALL POSSIBLE COMBINATIONS OF UNI/WETH FROM ABOVE LIST OF TOKEN ID's**"
   ]
  },
  {
   "cell_type": "code",
   "execution_count": 65,
   "metadata": {
    "colab": {
     "base_uri": "https://localhost:8080/"
    },
    "collapsed": false,
    "id": "-6XYvu7jEKH1",
    "outputId": "ec9273d4-4eff-4847-dea8-ebc2bbc606c1"
   },
   "outputs": [
    {
     "name": "stdout",
     "output_type": "stream",
     "text": [
      "['0x4330e23e6fb28882060c8a125c4f1d2400b7b2d9', '0xd3d2e2692501a5c9ca623199d38826e513033a17', '0x7c498db5cb65b398e118eda7e71ac7306e0e2923', '0x63ff582264aa89a1f870564985c0c871979a898e', '0x6c7e7a1706ad680fefeb470371e0871cc6d7b19a', '0xa47ea5b74b6879c52250794376443eebd8a17bb3', '0x822130268fba14006b92c4d13b8b6fe3196ea2f0', '0xf615e9d45b998f605a5c1e27839c46670717a931', '0x5e0c41ec47d6675560b8608d8779ba949c5d9153', '0xf05a0ec162a03585ab06a5e112eda9b0348d1da0', '0xec2915ad1e9ac5cf68dda0f3ebdafbc8b8f69bea', '0x5709341ce31136276108a38c1901a90e19ac1f79']\n"
     ]
    }
   ],
   "source": [
    "PAIR_ID = []\n",
    "for uni in UNI_token:\n",
    "  for weth in WETH_token:\n",
    "    query = \"\"\"query($a: String!, $b: String!) \n",
    "      {\n",
    "      pairs(where: {token0: $a,token1: $b })\n",
    "        {\n",
    "        id\n",
    "        }\n",
    "      }\"\"\"\n",
    "    variables = {\"a\": uni, \"b\": weth}\n",
    "    result = execute(query,variables)\n",
    "    if len(result[\"data\"][\"pairs\"]) != 0:\n",
    "      PAIR_ID.append(result[\"data\"][\"pairs\"][0][\"id\"])\n",
    "print(PAIR_ID)"
   ]
  },
  {
   "cell_type": "markdown",
   "metadata": {
    "collapsed": false,
    "id": "6mSdCI1MiCWa"
   },
   "source": [
    "**QUERY TO FIND 1000 RECENT SWAPS BETWEEN THE PAIRS CORRESPONDING TO THE RESPECTIVE PAIR ID**"
   ]
  },
  {
   "cell_type": "code",
   "execution_count": 66,
   "metadata": {
    "collapsed": false,
    "id": "3gOsHBzdg-T9"
   },
   "outputs": [
   ],
   "source": [
    "df = pd.DataFrame()\n",
    "for pair in PAIR_ID: \n",
    "    query = \"\"\"query($a: String!)\n",
    "    {\n",
    "    swaps(first:1000, orderBy: timestamp, orderDirection: desc, where:{ pair: $a }) \n",
    "    {\n",
    "        pair {\n",
    "          reserveUSD\n",
    "          id\n",
    "        }\n",
    "        amount0In\n",
    "        amount0Out\n",
    "        amount1In\n",
    "        amount1Out\n",
    "        timestamp\n",
    "        amountUSD\n",
    "    }\n",
    "    }\n",
    "    \"\"\"\n",
    "    variables = {\"a\": pair}\n",
    "    result = execute(query,variables)\n",
    "    df = df.append(result['data']['swaps'],ignore_index=True)   "
   ]
  },
  {
   "cell_type": "code",
   "execution_count": 67,
   "metadata": {
    "colab": {
     "base_uri": "https://localhost:8080/"
    },
    "collapsed": false,
    "id": "1DDG4IbHj3za",
    "outputId": "7526a7c9-8d5c-4de0-fa41-5c8307301749"
   },
   "outputs": [
    {
     "name": "stdout",
     "output_type": "stream",
     "text": [
      "                    amount0In               amount0Out             amount1In  \\\n",
      "0                           0      5.50970290763971213                  0.08   \n",
      "1                           0                       15  0.208334881832740216   \n",
      "2                           0    16.946378445231014027                  0.22   \n",
      "3                           0                       10  0.122817431887499233   \n",
      "4      101.131602080728787541                        0                     0   \n",
      "...                       ...                      ...                   ...   \n",
      "1098                     2000                        0                     0   \n",
      "1099  1646.918584924192367448                        0                     0   \n",
      "1100                        0    175.95800172347654216                   0.1   \n",
      "1101                     4000                        0                     0   \n",
      "1102                        0  1646.918584924192367448                     1   \n",
      "\n",
      "                amount1Out                            amountUSD  \\\n",
      "0                        0  30.55308544225965789904832090849591   \n",
      "1                        0  80.60500517371023368012414053493041   \n",
      "2                        0  85.35431466111416644824963917718701   \n",
      "3                        0    47.290749463598840450431466394341   \n",
      "4     0.879525546389686227   1680.79150834623989444877763584951   \n",
      "...                    ...                                  ...   \n",
      "1098  1.071431896051017075  401.5593345812715054683210969378154   \n",
      "1099  0.916209672879891649  343.9506948745968709848058788226527   \n",
      "1100                     0  37.73058164433374422552063883292227   \n",
      "1101  2.354760159498772741   868.850932245314331590806427454496   \n",
      "1102                     0  378.9543369286342687678903467415415   \n",
      "\n",
      "                                                   pair   timestamp  \n",
      "0     {'id': '0x4330e23e6fb28882060c8a125c4f1d2400b7...  1600479068  \n",
      "1     {'id': '0x4330e23e6fb28882060c8a125c4f1d2400b7...  1600478087  \n",
      "2     {'id': '0x4330e23e6fb28882060c8a125c4f1d2400b7...  1600476413  \n",
      "3     {'id': '0x4330e23e6fb28882060c8a125c4f1d2400b7...  1600476364  \n",
      "4     {'id': '0xd3d2e2692501a5c9ca623199d38826e51303...  1624384788  \n",
      "...                                                 ...         ...  \n",
      "1098  {'id': '0x5709341ce31136276108a38c1901a90e19ac...  1600303775  \n",
      "1099  {'id': '0x5709341ce31136276108a38c1901a90e19ac...  1600303775  \n",
      "1100  {'id': '0x5709341ce31136276108a38c1901a90e19ac...  1600303736  \n",
      "1101  {'id': '0x5709341ce31136276108a38c1901a90e19ac...  1600303660  \n",
      "1102  {'id': '0x5709341ce31136276108a38c1901a90e19ac...  1600303505  \n",
      "\n",
      "[1103 rows x 7 columns]\n"
     ]
    }
   ],
   "source": [
    "pd.set_option('display.max_columns', None) #so as to view all columns in the dataframe\n",
    "print(df)"
   ]
  },
  {
   "cell_type": "markdown",
   "metadata": {
    "collapsed": false,
    "id": "qpvkOXQZt9aB"
   },
   "source": [
    "**DATA CLEANING TO CONVERT IT INTO THE FORMAT REQUIRED**"
   ]
  },
  {
   "cell_type": "code",
   "execution_count": 68,
   "metadata": {
    "collapsed": false,
    "id": "vBsEmvKD4NRo"
   },
   "outputs": [
   ],
   "source": [
    "pool_id = []\n",
    "liquidity = []\n",
    "for i in range(len(df)):\n",
    "  pool_id.append(df[\"pair\"][i][\"id\"])\n",
    "  liquidity.append(df[\"pair\"][i][\"reserveUSD\"])"
   ]
  },
  {
   "cell_type": "markdown",
   "metadata": {
    "collapsed": false,
    "id": "E20cFK_Nx4hr"
   },
   "source": [
    "**DATA FORMATTING**\n",
    "\n",
    "The base currency took into consideration for these operations was UNI and quote currency is WETH. Hence according to the API documentation, whenever amount0In was not equal to zero in the data it means it has been sold. Similarly, Pool id and liquidity of the pool has been formatted from the pair schema."
   ]
  },
  {
   "cell_type": "code",
   "execution_count": 69,
   "metadata": {
    "collapsed": false,
    "id": "-xvrS84Xo4Hm"
   },
   "outputs": [
   ],
   "source": [
    "df[\"TIMESTAMP\"] = df[\"timestamp\"]\n",
    "df['BASE CURRENCY QUANTITY TRADED'] = np.where((df['amount0In'] > df['amount0Out']), df['amount0In'], df['amount0Out'])\n",
    "df['QUOTE CURRENCY QUANTITY TRADED'] = np.where((df['amount1In'] > df['amount1Out']), df['amount1In'], df['amount1Out'])\n",
    "df['SIDE'] = np.where((df['amount0In'] > df['amount0Out']), \"sell\", \"buy\")\n",
    "df['VOLUME IN USD'] = df[\"amountUSD\"]\n",
    "df = df.assign(POOL_ID = pool_id, LIQUIDITY_IN_POOL = liquidity)"
   ]
  },
  {
   "cell_type": "markdown",
   "metadata": {
    "collapsed": false,
    "id": "egBQPGdbuE-3"
   },
   "source": [
    "**DELETING THE NOT NEEDED COLUMNS AFTER THE NEW COLUMNS HAVE BEEN CREATED**"
   ]
  },
  {
   "cell_type": "code",
   "execution_count": 70,
   "metadata": {
    "collapsed": false,
    "id": "c83INt1u7ib5"
   },
   "outputs": [
   ],
   "source": [
    "del df['amountUSD'],df[\"amount1Out\"],df[\"pair\"],df[\"timestamp\"], df['amount0In'],df['amount0Out'],df['amount1In']"
   ]
  },
  {
   "cell_type": "markdown",
   "metadata": {
    "collapsed": false,
    "id": "qO9_ExgrwHDN"
   },
   "source": [
    "**MAKING THE DATA TYPE OF SOME COLUMNS FOR THE PURPOSE OF PLOTTING**\n"
   ]
  },
  {
   "cell_type": "code",
   "execution_count": 71,
   "metadata": {
    "colab": {
     "base_uri": "https://localhost:8080/",
     "height": 434
    },
    "collapsed": false,
    "id": "K3U5Mi8_uzy4",
    "outputId": "1261c57f-87f2-4cde-bff8-68bdd3d81175"
   },
   "outputs": [
    {
     "data": {
      "text/html": [
       "<div>\n",
       "<style scoped>\n",
       "    .dataframe tbody tr th:only-of-type {\n",
       "        vertical-align: middle;\n",
       "    }\n",
       "\n",
       "    .dataframe tbody tr th {\n",
       "        vertical-align: top;\n",
       "    }\n",
       "\n",
       "    .dataframe thead th {\n",
       "        text-align: right;\n",
       "    }\n",
       "</style>\n",
       "<table border=\"1\" class=\"dataframe\">\n",
       "  <thead>\n",
       "    <tr style=\"text-align: right;\">\n",
       "      <th></th>\n",
       "      <th>TIMESTAMP</th>\n",
       "      <th>BASE CURRENCY QUANTITY TRADED</th>\n",
       "      <th>QUOTE CURRENCY QUANTITY TRADED</th>\n",
       "      <th>SIDE</th>\n",
       "      <th>VOLUME IN USD</th>\n",
       "      <th>POOL_ID</th>\n",
       "      <th>LIQUIDITY_IN_POOL</th>\n",
       "    </tr>\n",
       "  </thead>\n",
       "  <tbody>\n",
       "    <tr>\n",
       "      <th>0</th>\n",
       "      <td>1600479068</td>\n",
       "      <td>5.509703</td>\n",
       "      <td>0.080000</td>\n",
       "      <td>buy</td>\n",
       "      <td>30.553085</td>\n",
       "      <td>0x4330e23e6fb28882060c8a125c4f1d2400b7b2d9</td>\n",
       "      <td>0.00000000000009270166726518542246770840448501383</td>\n",
       "    </tr>\n",
       "    <tr>\n",
       "      <th>1</th>\n",
       "      <td>1600478087</td>\n",
       "      <td>15.000000</td>\n",
       "      <td>0.208335</td>\n",
       "      <td>buy</td>\n",
       "      <td>80.605005</td>\n",
       "      <td>0x4330e23e6fb28882060c8a125c4f1d2400b7b2d9</td>\n",
       "      <td>0.00000000000009270166726518542246770840448501383</td>\n",
       "    </tr>\n",
       "    <tr>\n",
       "      <th>2</th>\n",
       "      <td>1600476413</td>\n",
       "      <td>16.946378</td>\n",
       "      <td>0.220000</td>\n",
       "      <td>buy</td>\n",
       "      <td>85.354315</td>\n",
       "      <td>0x4330e23e6fb28882060c8a125c4f1d2400b7b2d9</td>\n",
       "      <td>0.00000000000009270166726518542246770840448501383</td>\n",
       "    </tr>\n",
       "    <tr>\n",
       "      <th>3</th>\n",
       "      <td>1600476364</td>\n",
       "      <td>10.000000</td>\n",
       "      <td>0.122817</td>\n",
       "      <td>buy</td>\n",
       "      <td>47.290749</td>\n",
       "      <td>0x4330e23e6fb28882060c8a125c4f1d2400b7b2d9</td>\n",
       "      <td>0.00000000000009270166726518542246770840448501383</td>\n",
       "    </tr>\n",
       "    <tr>\n",
       "      <th>4</th>\n",
       "      <td>1624384788</td>\n",
       "      <td>101.131602</td>\n",
       "      <td>0.879526</td>\n",
       "      <td>sell</td>\n",
       "      <td>1680.791508</td>\n",
       "      <td>0xd3d2e2692501a5c9ca623199d38826e513033a17</td>\n",
       "      <td>77278029.34537824133297129549459079</td>\n",
       "    </tr>\n",
       "    <tr>\n",
       "      <th>...</th>\n",
       "      <td>...</td>\n",
       "      <td>...</td>\n",
       "      <td>...</td>\n",
       "      <td>...</td>\n",
       "      <td>...</td>\n",
       "      <td>...</td>\n",
       "      <td>...</td>\n",
       "    </tr>\n",
       "    <tr>\n",
       "      <th>1098</th>\n",
       "      <td>1600303775</td>\n",
       "      <td>2000.000000</td>\n",
       "      <td>1.071432</td>\n",
       "      <td>sell</td>\n",
       "      <td>401.559335</td>\n",
       "      <td>0x5709341ce31136276108a38c1901a90e19ac1f79</td>\n",
       "      <td>0.00000000000002355424209292357157384813377270777</td>\n",
       "    </tr>\n",
       "    <tr>\n",
       "      <th>1099</th>\n",
       "      <td>1600303775</td>\n",
       "      <td>1646.918585</td>\n",
       "      <td>0.916210</td>\n",
       "      <td>sell</td>\n",
       "      <td>343.950695</td>\n",
       "      <td>0x5709341ce31136276108a38c1901a90e19ac1f79</td>\n",
       "      <td>0.00000000000002355424209292357157384813377270777</td>\n",
       "    </tr>\n",
       "    <tr>\n",
       "      <th>1100</th>\n",
       "      <td>1600303736</td>\n",
       "      <td>175.958002</td>\n",
       "      <td>0.100000</td>\n",
       "      <td>buy</td>\n",
       "      <td>37.730582</td>\n",
       "      <td>0x5709341ce31136276108a38c1901a90e19ac1f79</td>\n",
       "      <td>0.00000000000002355424209292357157384813377270777</td>\n",
       "    </tr>\n",
       "    <tr>\n",
       "      <th>1101</th>\n",
       "      <td>1600303660</td>\n",
       "      <td>4000.000000</td>\n",
       "      <td>2.354760</td>\n",
       "      <td>sell</td>\n",
       "      <td>868.850932</td>\n",
       "      <td>0x5709341ce31136276108a38c1901a90e19ac1f79</td>\n",
       "      <td>0.00000000000002355424209292357157384813377270777</td>\n",
       "    </tr>\n",
       "    <tr>\n",
       "      <th>1102</th>\n",
       "      <td>1600303505</td>\n",
       "      <td>1646.918585</td>\n",
       "      <td>1.000000</td>\n",
       "      <td>buy</td>\n",
       "      <td>378.954337</td>\n",
       "      <td>0x5709341ce31136276108a38c1901a90e19ac1f79</td>\n",
       "      <td>0.00000000000002355424209292357157384813377270777</td>\n",
       "    </tr>\n",
       "  </tbody>\n",
       "</table>\n",
       "<p>1103 rows × 7 columns</p>\n",
       "</div>"
      ],
      "text/plain": [
       "       TIMESTAMP  BASE CURRENCY QUANTITY TRADED  \\\n",
       "0     1600479068                       5.509703   \n",
       "1     1600478087                      15.000000   \n",
       "2     1600476413                      16.946378   \n",
       "3     1600476364                      10.000000   \n",
       "4     1624384788                     101.131602   \n",
       "...          ...                            ...   \n",
       "1098  1600303775                    2000.000000   \n",
       "1099  1600303775                    1646.918585   \n",
       "1100  1600303736                     175.958002   \n",
       "1101  1600303660                    4000.000000   \n",
       "1102  1600303505                    1646.918585   \n",
       "\n",
       "      QUOTE CURRENCY QUANTITY TRADED  SIDE  VOLUME IN USD  \\\n",
       "0                           0.080000   buy      30.553085   \n",
       "1                           0.208335   buy      80.605005   \n",
       "2                           0.220000   buy      85.354315   \n",
       "3                           0.122817   buy      47.290749   \n",
       "4                           0.879526  sell    1680.791508   \n",
       "...                              ...   ...            ...   \n",
       "1098                        1.071432  sell     401.559335   \n",
       "1099                        0.916210  sell     343.950695   \n",
       "1100                        0.100000   buy      37.730582   \n",
       "1101                        2.354760  sell     868.850932   \n",
       "1102                        1.000000   buy     378.954337   \n",
       "\n",
       "                                         POOL_ID  \\\n",
       "0     0x4330e23e6fb28882060c8a125c4f1d2400b7b2d9   \n",
       "1     0x4330e23e6fb28882060c8a125c4f1d2400b7b2d9   \n",
       "2     0x4330e23e6fb28882060c8a125c4f1d2400b7b2d9   \n",
       "3     0x4330e23e6fb28882060c8a125c4f1d2400b7b2d9   \n",
       "4     0xd3d2e2692501a5c9ca623199d38826e513033a17   \n",
       "...                                          ...   \n",
       "1098  0x5709341ce31136276108a38c1901a90e19ac1f79   \n",
       "1099  0x5709341ce31136276108a38c1901a90e19ac1f79   \n",
       "1100  0x5709341ce31136276108a38c1901a90e19ac1f79   \n",
       "1101  0x5709341ce31136276108a38c1901a90e19ac1f79   \n",
       "1102  0x5709341ce31136276108a38c1901a90e19ac1f79   \n",
       "\n",
       "                                      LIQUIDITY_IN_POOL  \n",
       "0     0.00000000000009270166726518542246770840448501383  \n",
       "1     0.00000000000009270166726518542246770840448501383  \n",
       "2     0.00000000000009270166726518542246770840448501383  \n",
       "3     0.00000000000009270166726518542246770840448501383  \n",
       "4                   77278029.34537824133297129549459079  \n",
       "...                                                 ...  \n",
       "1098  0.00000000000002355424209292357157384813377270777  \n",
       "1099  0.00000000000002355424209292357157384813377270777  \n",
       "1100  0.00000000000002355424209292357157384813377270777  \n",
       "1101  0.00000000000002355424209292357157384813377270777  \n",
       "1102  0.00000000000002355424209292357157384813377270777  \n",
       "\n",
       "[1103 rows x 7 columns]"
      ]
     },
     "execution_count": 71,
     "metadata": {
      "tags": [
      ]
     },
     "output_type": "execute_result"
    }
   ],
   "source": [
    "df.astype({'BASE CURRENCY QUANTITY TRADED':float,'QUOTE CURRENCY QUANTITY TRADED':float,'VOLUME IN USD':float})"
   ]
  },
  {
   "cell_type": "markdown",
   "metadata": {
    "collapsed": false,
    "id": "6XiLd4gWxKRE"
   },
   "source": [
    "**CONVERTING TIME STAMP FROM UNIX FORMAT TO READABLE FORMAT**"
   ]
  },
  {
   "cell_type": "code",
   "execution_count": 72,
   "metadata": {
    "collapsed": false,
    "id": "e149KK9Bwnmx"
   },
   "outputs": [
   ],
   "source": [
    "df[\"time Stamp\"] = pd.to_datetime(df['TIMESTAMP'], unit='s')\n",
    "del df[\"TIMESTAMP\"]"
   ]
  },
  {
   "cell_type": "markdown",
   "metadata": {
    "collapsed": false,
    "id": "8XVTZe4Z0f3d"
   },
   "source": [
    "**PLOT SHOWING THE POOL IN WHICH MORE TRANSACTIONS HAPPENNED MENTIONING POOL ID IN X AXIS AND COUNT IN Y AXIS**\n",
    "\n",
    "As you can see in the below bar chart, the orange bar had nearly 1000 transactions in the total of 1100 swaps queried by us which tells us that the liquidity of that pool is greater compared to others."
   ]
  },
  {
   "cell_type": "code",
   "execution_count": 73,
   "metadata": {
    "colab": {
     "base_uri": "https://localhost:8080/",
     "height": 585
    },
    "collapsed": false,
    "id": "QJDSVz3vynkh",
    "outputId": "714472d7-1dc4-4d9b-a1ab-7088c4fd513a",
    "scrolled": true
   },
   "outputs": [
    {
     "data": {
      "image/png": "[encoded data removed]",
      "text/plain": [
       "<Figure size 576x576 with 1 Axes>"
      ]
     },
     "execution_count": 73,
     "metadata": {
      "needs_background": "light",
      "tags": [
      ]
     },
     "output_type": "execute_result"
    }
   ],
   "source": [
    "plt.figure(figsize=(8,8))\n",
    "ax = sns.countplot(x=\"POOL_ID\",data=df)\n",
    "ax.set_xticklabels(ax.get_xticklabels(), rotation=40, ha=\"right\")\n",
    "plt.tight_layout()\n",
    "plt.show()"
   ]
  },
  {
   "cell_type": "markdown",
   "metadata": {
    "collapsed": false,
    "id": "25DnPQtY5OMs"
   },
   "source": [
    "**FREQUENCY OF THE BASE CURRENCY TRANSACTION IN THE DATA**"
   ]
  },
  {
   "cell_type": "code",
   "execution_count": 75,
   "metadata": {
    "colab": {
     "base_uri": "https://localhost:8080/",
     "height": 585
    },
    "collapsed": false,
    "id": "vMyLLfnO5Hra",
    "outputId": "036b9385-83ef-4b66-b8c5-00d637fc3fee"
   },
   "outputs": [
    {
     "data": {
      "image/png": "[encoded data removed]",
      "text/plain": [
       "<Figure size 576x576 with 1 Axes>"
      ]
     },
     "execution_count": 75,
     "metadata": {
      "needs_background": "light",
      "tags": [
      ]
     },
     "output_type": "execute_result"
    }
   ],
   "source": [
    "plt.figure(figsize=(8,8))\n",
    "ax = sns.countplot(x=\"SIDE\",data=df)\n",
    "ax.set_xticklabels(ax.get_xticklabels(), rotation=40, ha=\"right\")\n",
    "plt.tight_layout()\n",
    "plt.show()"
   ]
  },
  {
   "cell_type": "markdown",
   "metadata": {
    "collapsed": false,
    "id": "M53sOktpuLsQ"
   },
   "source": [
    "**TO CONVERT THE DATA FRAME INTO AN EXCEL FILE FOR THE PURPOSE OF VIEWING IT PROPERLY**"
   ]
  },
  {
   "cell_type": "code",
   "execution_count": 74,
   "metadata": {
    "collapsed": false,
    "id": "PUWZd3iLkJw-"
   },
   "outputs": [
   ],
   "source": [
    "df.to_excel(\"output.xlsx\")"
   ]
  }
 ],
 "metadata": {
  "colab": {
   "authorship_tag": "ABX9TyNgOxa02b0iqhyHmpEvFJDt",
   "include_colab_link": true,
   "name": "UNISWAP_python.ipynb",
   "provenance": [
   ]
  },
  "kernelspec": {
   "display_name": "Python 3 (system-wide)",
   "language": "python",
   "metadata": {
    "cocalc": {
     "description": "Python 3 programming language",
     "priority": 100,
     "url": "https://www.python.org/"
    }
   },
   "name": "python3",
   "resource_dir": "/ext/jupyter/kernels/python3"
  },
  "language_info": {
   "name": "python"
  }
 },
 "nbformat": 4,
 "nbformat_minor": 4
}